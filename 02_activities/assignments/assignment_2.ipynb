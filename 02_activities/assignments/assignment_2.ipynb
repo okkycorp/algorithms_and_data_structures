{
 "cells": [
  {
   "cell_type": "markdown",
   "metadata": {},
   "source": [
    "# Practice Interview\n",
    "\n",
    "## Objective\n",
    "\n",
    "_*The partner assignment aims to provide participants with the opportunity to practice coding in an interview context. You will analyze your partner's Assignment 1. Moreover, code reviews are common practice in a software development team. This assignment should give you a taste of the code review process.*_\n",
    "\n",
    "## Group Size\n",
    "\n",
    "Each group should have 2 people. You will be assigned a partner\n",
    "\n",
    "## Part 1:\n",
    "\n",
    "You and your partner must share each other's Assignment 1 submission."
   ]
  },
  {
   "cell_type": "markdown",
   "metadata": {},
   "source": [
    "\n",
    "## Part 2:\n",
    "\n",
    "Create a Jupyter Notebook, create 6 of the following headings, and complete the following for your partner's assignment 1:\n",
    "\n",
    "-   Paraphrase the problem in your own words.\n"
   ]
  },
  {
   "cell_type": "code",
   "execution_count": null,
   "metadata": {},
   "outputs": [],
   "source": [
    "# The task is to find all possible paths from the root to the leaf nodes in a binary tree and return these paths as lists of node values. Each path should start at the root and end at a leaf node. The output should be a collection of these paths in any order.\n",
    "\n",
    "# For example, given a binary tree represented by a list of values where each value corresponds to a node, you need to:\n",
    "\n",
    "# Traverse the tree starting from the root.\n",
    "# Record the sequence of node values from the root to each leaf node.\n",
    "# Return a list containing all these root-to-leaf paths.\n",
    "# The provided examples illustrate the expected input format (a binary tree) and the output format (a list of lists, where each inner list represents a path from the root to a leaf). The traversal method used to solve this problem is Depth-First Search (DFS)."
   ]
  },
  {
   "cell_type": "markdown",
   "metadata": {},
   "source": [
    "\n",
    "-   Create 1 new example that demonstrates you understand the problem. Trace/walkthrough 1 example that your partner made and explain it.\n"
   ]
  },
  {
   "cell_type": "code",
   "execution_count": null,
   "metadata": {},
   "outputs": [],
   "source": [
    "#  my new exammple\n",
    "Input:\n",
    "root = [4, 2, 6, 1, 3, 5, 7]\n",
    "\n",
    "Output:\n",
    "[[4, 2, 1], [4, 2, 3], [4, 6, 5], [4, 6, 7]]\n",
    "\n",
    "# my partner's example\n",
    "The given example demonstrates the function bt_path which finds all root-to-leaf paths in a binary tree using Depth-First Search (DFS).\n",
    "The function bt_path performs the following steps:\n",
    "\n",
    "Initializes an empty list paths to store the root-to-leaf paths.\n",
    "Uses a helper function dfs to traverse the tree recursively.\n",
    "For each node, it adds the node's value to the current path.\n",
    "If a leaf node is reached, it adds the current path to paths.\n",
    "It backtracks to explore other paths by removing the last node from the current path.\n",
    "\n",
    "The output for the given binary tree is a list of all root-to-leaf paths:\n",
    "    [\n",
    "  [10, 5, 3, 2],\n",
    "  [10, 5, 7],\n",
    "  [10, 12, 15, 14],\n",
    "  [10, 12, 15, 18]\n",
    "]"
   ]
  },
  {
   "cell_type": "markdown",
   "metadata": {},
   "source": [
    "\n",
    "-   Copy the solution your partner wrote. \n"
   ]
  },
  {
   "cell_type": "code",
   "execution_count": null,
   "metadata": {},
   "outputs": [],
   "source": [
    "# Example 1\n",
    "root1 = TreeNode(10)\n",
    "root1.left = TreeNode(5)\n",
    "root1.right = TreeNode(12)\n",
    "root1.left.left = TreeNode(3)\n",
    "root1.left.right = TreeNode(7)\n",
    "root1.right.right = TreeNode(15)\n",
    "root1.left.left.left = TreeNode(2)\n",
    "root1.right.right.left = TreeNode(14)\n",
    "root1.right.right.right = TreeNode(18)\n",
    "\n",
    "print(bt_path(root1))"
   ]
  },
  {
   "cell_type": "markdown",
   "metadata": {},
   "source": [
    "\n",
    "-   Explain why their solution works in your own words.\n"
   ]
  },
  {
   "cell_type": "code",
   "execution_count": null,
   "metadata": {},
   "outputs": [],
   "source": [
    "# The solution works because it uses a Depth-First Search (DFS) traversal to explore all paths from the root to the leaf nodes in a binary tree. Here's a summary of how it works:\n",
    "\n",
    "# Recursive DFS Traversal: The function recursively traverses the tree, visiting each node starting from the root.\n",
    "# Path Tracking: It maintains a list of node values (path) representing the current path from the root to the current node.\n",
    "# Leaf Node Detection: When it reaches a leaf node (a node with no children), it records the current path.\n",
    "# Backtracking: After exploring each node, the function backtracks to explore other possible paths, ensuring all paths are considered.\n",
    "# Comprehensive Path Collection: It collects all root-to-leaf paths in a list (paths), which is returned as the final result."
   ]
  },
  {
   "cell_type": "markdown",
   "metadata": {},
   "source": [
    "\n",
    "-   Explain the problem’s time and space complexity in your own words.\n"
   ]
  },
  {
   "cell_type": "code",
   "execution_count": null,
   "metadata": {},
   "outputs": [],
   "source": [
    "# Time Complexity\n",
    "# O(N): The function visits each node exactly once using DFS, where 𝑁 is the number of nodes in the tree.\n",
    "\n",
    "# Space Complexity\n",
    "# O(N):\n",
    "# The recursion stack depth can go up to 𝑁 in the worst case (completely unbalanced tree).\n",
    "# Storing the paths can also require space proportional to 𝑁, especially in a balanced tree with many leaf nodes.\n",
    "\n",
    "# Summary\n",
    "# Time Complexity: O(N) because each node is processed once.\n",
    "# Space Complexity: O(N) due to the recursion stack and storage of all root-to-leaf paths."
   ]
  },
  {
   "cell_type": "markdown",
   "metadata": {},
   "source": [
    "\n",
    "-   Critique your partner's solution, including explanation, and if there is anything that should be adjusted.\n"
   ]
  },
  {
   "cell_type": "code",
   "execution_count": null,
   "metadata": {},
   "outputs": [],
   "source": [
    "# Code Functionality\n",
    "# •\tThe code correctly implements Depth-First Search (DFS) to find all root-to-leaf paths.\n",
    "# •\tIt uses recursion, path tracking, and backtracking effectively to generate the desired output.\n",
    "# Explanation\n",
    "# •\tPreorder Traversal: Accurately describes the method as preorder (root, left, right).\n",
    "# •\tPath Tracking: Correctly explains how paths are tracked and recorded.\n",
    "# •\tBacktracking: Describes how the path list is updated by removing nodes after visiting their children.\n",
    "# •\tTime Complexity: Correctly identified as O(N), where NNN is the number of nodes.\n",
    "# •\tSpace Complexity: Initially described as O(h) for the recursion stack but did not account for path storage.\n",
    "# Improvements\n",
    "# 1.\tSpace Complexity: Should include both recursion stack and path storage, resulting in O(N) overall.\n",
    "# 2.\tExample Clarification: Clarify that the space complexity considers total nodes and path storage.\n",
    "# 3.\tExample Code: Include comments to show expected output for better understanding.\n"
   ]
  },
  {
   "cell_type": "markdown",
   "metadata": {},
   "source": [
    "\n",
    "## Part 3:\n",
    "\n",
    "Please write a 200 word reflection documenting your process from assignment 1, and your presentation and review experience with your partner at the bottom of the Jupyter Notebook under a new heading \"Reflection.\" Again, export this Notebook as pdf.\n"
   ]
  },
  {
   "cell_type": "markdown",
   "metadata": {},
   "source": [
    "### Reflection"
   ]
  },
  {
   "cell_type": "code",
   "execution_count": null,
   "metadata": {},
   "outputs": [],
   "source": [
    "\n",
    "# In my assignment, I used a breadth-first search (BFS) approach to find the closest duplicate value to the root in a binary tree. BFS explores nodes level by level, ensuring the nearest duplicate is identified first. I used a queue to process nodes in FIFO order and a set to track seen values. If a duplicate was found, it was immediately returned; otherwise, traversal continued until all nodes were processed. The time and space complexity were both O(N).\n",
    "# This task reinforced my understanding of BFS and its practical applications in tree traversal, highlighting the importance of selecting appropriate traversal methods and data structures.\n",
    "\n",
    "# My partner's assignment aimed to find all root-to-leaf paths in a binary tree using Depth-First Search (DFS). The recursive DFS approach tracked the current path and stored completed paths, ensuring all possible paths were captured.\n",
    "\n",
    "# Similarities:\n",
    "# 1.\tBoth assignments involve binary tree traversal.\n",
    "# 2.\tBoth use specific traversal methods and data structures for efficient processing.\n",
    "# Differences:\n",
    "# 1.\tTraversal Method: My assignment used BFS; my partner's used DFS.\n",
    "# 2.\tGoal: Mine focused on detecting the closest duplicate; my partner’s focused on finding all root-to-leaf paths.\n",
    "# 3.\tSpace Complexity: Both had O(N) complexity, but for different reasons (queue and set vs. recursion stack and path storage).\n",
    "\n",
    "# Reviewing my partner’s assignment highlighted the impact of traversal method choice on problem-solving. BFS was ideal for finding the closest duplicate, while DFS was suitable for capturing all paths."
   ]
  },
  {
   "cell_type": "markdown",
   "metadata": {},
   "source": [
    "\n",
    "## Evaluation Criteria\n",
    "\n",
    "We are looking for the similar points as Assignment 1\n",
    "\n",
    "-   Problem is accurately stated\n",
    "\n",
    "-   New example is correct and easily understandable\n",
    "\n",
    "-   Correctness, time, and space complexity of the coding solution\n",
    "\n",
    "-   Clarity in explaining why the solution works, its time and space complexity\n",
    "\n",
    "-   Quality of critique of your partner's assignment, if necessary\n"
   ]
  },
  {
   "cell_type": "markdown",
   "metadata": {},
   "source": [
    "## Submission Information\n",
    "\n",
    "🚨 **Please review our [Assignment Submission Guide](https://github.com/UofT-DSI/onboarding/blob/main/onboarding_documents/submissions.md)** 🚨 for detailed instructions on how to format, branch, and submit your work. Following these guidelines is crucial for your submissions to be evaluated correctly.\n",
    "\n",
    "### Submission Parameters:\n",
    "* Submission Due Date: `HH:MM AM/PM - DD/MM/YYYY`\n",
    "* The branch name for your repo should be: `assignment-2`\n",
    "* What to submit for this assignment:\n",
    "    * This Jupyter Notebook (assignment_2.ipynb) should be populated and should be the only change in your pull request.\n",
    "* What the pull request link should look like for this assignment: `https://github.com/<your_github_username>/algorithms_and_data_structures/pull/<pr_id>`\n",
    "    * Open a private window in your browser. Copy and paste the link to your pull request into the address bar. Make sure you can see your pull request properly. This helps the technical facilitator and learning support staff review your submission easily.\n",
    "\n",
    "Checklist:\n",
    "- [ ] Created a branch with the correct naming convention.\n",
    "- [ ] Ensured that the repository is public.\n",
    "- [ ] Reviewed the PR description guidelines and adhered to them.\n",
    "- [ ] Verify that the link is accessible in a private browser window.\n",
    "\n",
    "If you encounter any difficulties or have questions, please don't hesitate to reach out to our team via our Slack at `#cohort-3-help`. Our Technical Facilitators and Learning Support staff are here to help you navigate any challenges.\n"
   ]
  }
 ],
 "metadata": {
  "language_info": {
   "name": "python"
  }
 },
 "nbformat": 4,
 "nbformat_minor": 2
}
