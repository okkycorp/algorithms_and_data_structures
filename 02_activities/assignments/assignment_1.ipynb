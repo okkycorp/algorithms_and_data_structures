{
 "cells": [
  {
   "cell_type": "markdown",
   "metadata": {},
   "source": [
    "# Coding Problems\n",
    "\n",
    "## Objective\n",
    "\n",
    "This assignment aims to demonstrate how to study a data structures or algorithms question in depth to prepare for an industry coding interview. Leetcode is a popular coding practice site that many use to practice for technical interviews. Like behavioral interviews, it's important to practice and keep your skills sharp.\n",
    "\n",
    "## Group Size\n",
    "\n",
    "Please complete this individually.\n",
    "\n",
    "## Part 1:\n",
    "\n",
    "_*You will be assigned one of three problems based of your first name. Execute the code below, and that will tell you your assigned problem. Include the output as part of your submission (do not clear the output). The problems are based-off problems from Leetcode.*_\n"
   ]
  },
  {
   "cell_type": "code",
   "execution_count": 68,
   "metadata": {},
   "outputs": [
    {
     "name": "stdout",
     "output_type": "stream",
     "text": [
      "1\n"
     ]
    }
   ],
   "source": [
    "print((hash('okky') % 3) + 1)"
   ]
  },
  {
   "cell_type": "markdown",
   "metadata": {},
   "source": [
    "<details>\n",
    "  <summary>Question 1</summary>\n",
    "\n",
    "  # Question One: Check Duplicates in Tree\n",
    "\n",
    "  Given the `root` of a binary tree, check whether it is contains a duplicate value. If a duplicate exists, return the duplicate value. If there are multiple duplicates, return the one with the closest distance to the root. If no duplicate exists, return -1.\n",
    "\n",
    "  ## Examples\n",
    "\n",
    "  ### Example 1\n",
    "\n",
    "  ![](./images/q1_ex1.png)\n",
    "\n",
    "  Input: `root = [1, 2, 2, 3, 5, 6, 7]` *What traversal method is this?*\n",
    "\n",
    "  Output: 2\n",
    "\n",
    "  ### Example 2\n",
    "\n",
    "  ![](./images/q1_ex2.png)\n",
    "\n",
    "  Input: `root = [1, 10, 2, 3, 10, 12, 12]`\n",
    "\n",
    "  Output: 10\n",
    "\n",
    "  ### Example 3\n",
    "\n",
    "  ![](./images/q1_ex3.png)\n",
    "\n",
    "  Input: `root = [10, 9, 8, 7]`\n",
    "\n",
    "  Output: -1\n",
    "\n",
    "</details>\n",
    "\n",
    "#### Starter Code for Question 1"
   ]
  },
  {
   "cell_type": "code",
   "execution_count": 69,
   "metadata": {},
   "outputs": [
    {
     "ename": "IndentationError",
     "evalue": "expected an indented block (2850872121.py, line 8)",
     "output_type": "error",
     "traceback": [
      "\u001b[1;36m  Cell \u001b[1;32mIn[69], line 8\u001b[1;36m\u001b[0m\n\u001b[1;33m    # TODO\u001b[0m\n\u001b[1;37m          ^\u001b[0m\n\u001b[1;31mIndentationError\u001b[0m\u001b[1;31m:\u001b[0m expected an indented block\n"
     ]
    }
   ],
   "source": [
    "# Definition for a binary tree node.\n",
    "# class TreeNode(object):\n",
    "#     def __init__(self, val = 0, left = None, right = None):\n",
    "#         self.val = val\n",
    "#         self.left = left\n",
    "#         self.right = right\n",
    "def is_duplicate(root: TreeNode) -> int:\n",
    "  # TODO"
   ]
  },
  {
   "cell_type": "markdown",
   "metadata": {},
   "source": [
    "<details>\n",
    "  <summary>Question 2</summary>\n",
    "\n",
    "  # Question Two: Path to Leaves\n",
    "\n",
    "  Given the `root` of a binary tree, return all root to leaf paths in any order.\n",
    "\n",
    "  ## Examples\n",
    "\n",
    "  ### Example 1\n",
    "\n",
    "  ![](./images/q1_ex1.png)\n",
    "\n",
    "  Input: `root = [1, 2, 2, 3, 5, 6, 7]` *What traversal method is this?*\n",
    "\n",
    "  Output: [[1, 2, 3], [1, 2, 5], [1, 2, 6], [1, 2, 7]]\n",
    "\n",
    "  ### Example 2\n",
    "\n",
    "  ![](./images/q1_ex3.png)\n",
    "\n",
    "  Input: `root = [10, 9, 7, 8]`\n",
    "\n",
    "  Output: [[10, 7], [10, 9, 8]]\n",
    "\n",
    "</details>\n",
    "\n",
    "#### Starter Code for Question 2"
   ]
  },
  {
   "cell_type": "code",
   "execution_count": null,
   "metadata": {},
   "outputs": [],
   "source": [
    "\n"
   ]
  },
  {
   "cell_type": "markdown",
   "metadata": {},
   "source": [
    "<details>\n",
    "  <summary>Question 3</summary>\n",
    "\n",
    "  # Question Three: Missing Number in Range\n",
    " \n",
    "  You are given a list containing `n` integers in the range `[0, n]`. Return a list of numbers that are missing from the range `[0, n]` of the array. If there is no missing number, return -1. Note, all the integers in the list may not be unique.\n",
    "  \n",
    "  ## Examples\n",
    "\n",
    "  ### Example 1\n",
    "\n",
    "  Input: `lst = [0, 2]`\n",
    "\n",
    "  Output: [1]\n",
    "\n",
    "  ### Example 2\n",
    "\n",
    "  Input: `lst = [5, 0, 1]`\n",
    "\n",
    "  Output: [2, 3, 4]\n",
    "\n",
    "  ### Example 3\n",
    "\n",
    "  Input: `lst = [6, 8, 2, 3, 5, 7, 0, 1, 10]`\n",
    "\n",
    "  Output: [4, 9]\n",
    "\n",
    "</details>\n",
    "\n",
    "#### Starter Code for Question 3\n"
   ]
  },
  {
   "cell_type": "code",
   "execution_count": null,
   "metadata": {},
   "outputs": [],
   "source": []
  },
  {
   "cell_type": "markdown",
   "metadata": {},
   "source": [
    "\n",
    "## Part 2:\n",
    "\n",
    "-   Paraphrase the problem in your own words\n"
   ]
  },
  {
   "cell_type": "code",
   "execution_count": null,
   "metadata": {},
   "outputs": [],
   "source": [
    "# Given the root of a binary tree, determine if the tree contains any duplicate values. If there is a duplicate value, return the value of the duplicate that is closest to the root. If there are multiple duplicates at the same distance from the root, return the first one encountered during a level-order traversal. If no duplicates are found, return -1."
   ]
  },
  {
   "cell_type": "markdown",
   "metadata": {},
   "source": [
    "\n",
    "-   In the .md file containing your problem, there are examples that illustrate how the code should work. Create 2 new examples that demonstrate you understand the problem.\n"
   ]
  },
  {
   "cell_type": "code",
   "execution_count": null,
   "metadata": {},
   "outputs": [],
   "source": [
    "# Example 4:\n",
    "\n",
    "Input: root = [4, 2, 6, 1, 3, 5, 6]\n",
    "\n",
    "Output: 6\n",
    "\n",
    "# Example 5:\n",
    "\n",
    "Example 5:\n",
    "\n",
    "Input: root = [3, 1, 4, 1, 2, 2, 7]\n",
    "\n",
    "Output: 1"
   ]
  },
  {
   "cell_type": "markdown",
   "metadata": {},
   "source": [
    "\n",
    "-   Code the solution to your assigned problem in Python (code chunk). Try to find the best time and space complexity solution!\n"
   ]
  },
  {
   "cell_type": "code",
   "execution_count": 70,
   "metadata": {},
   "outputs": [
    {
     "name": "stdout",
     "output_type": "stream",
     "text": [
      "2\n",
      "10\n",
      "-1\n",
      "6\n",
      "1\n"
     ]
    }
   ],
   "source": [
    "from collections import deque\n",
    "from typing import Optional\n",
    "\n",
    "# Definition for a binary tree node.\n",
    "class TreeNode:\n",
    "    def __init__(self, val=0, left=None, right=None):\n",
    "        self.val = val\n",
    "        self.left = left\n",
    "        self.right = right\n",
    "\n",
    "def is_duplicate(root: Optional[TreeNode]) -> int:\n",
    "    if not root:\n",
    "        return -1\n",
    "\n",
    "    queue = deque([root])\n",
    "    seen = set()\n",
    "\n",
    "    while queue:\n",
    "        node = queue.popleft()\n",
    "        if node.val in seen:\n",
    "            return node.val\n",
    "        seen.add(node.val)\n",
    "        if node.left:\n",
    "            queue.append(node.left)\n",
    "        if node.right:\n",
    "            queue.append(node.right)\n",
    "\n",
    "    return -1\n",
    "\n",
    "# Test cases to demonstrate the function\n",
    "\n",
    "# Example 1: [1, 2, 2, 3, 5, 6, 7]\n",
    "root1 = TreeNode(1)\n",
    "root1.left = TreeNode(2)\n",
    "root1.right = TreeNode(2)\n",
    "root1.left.left = TreeNode(3)\n",
    "root1.left.right = TreeNode(5)\n",
    "root1.right.left = TreeNode(6)\n",
    "root1.right.right = TreeNode(7)\n",
    "print(is_duplicate(root1))  # Output: 2\n",
    "\n",
    "# Example 2: [1, 10, 2, 3, 10, 12, 12]\n",
    "root2 = TreeNode(1)\n",
    "root2.left = TreeNode(10)\n",
    "root2.right = TreeNode(2)\n",
    "root2.left.left = TreeNode(3)\n",
    "root2.left.right = TreeNode(10)\n",
    "root2.right.left = TreeNode(12)\n",
    "root2.right.right = TreeNode(12)\n",
    "print(is_duplicate(root2))  # Output: 10\n",
    "\n",
    "# Example 3: [10, 9, 8, 7]\n",
    "root3 = TreeNode(10)\n",
    "root3.left = TreeNode(9)\n",
    "root3.right = TreeNode(8)\n",
    "root3.left.left = TreeNode(7)\n",
    "print(is_duplicate(root3))  # Output: -1\n",
    "\n",
    "# Example 4: [4, 2, 6, 1, 3, 5, 6]\n",
    "root4 = TreeNode(4)\n",
    "root4.left = TreeNode(2)\n",
    "root4.right = TreeNode(6)\n",
    "root4.left.left = TreeNode(1)\n",
    "root4.left.right = TreeNode(3)\n",
    "root4.right.left = TreeNode(5)\n",
    "root4.right.right = TreeNode(6)\n",
    "print(is_duplicate(root4))  # Output: 6\n",
    "\n",
    "# Example 5: [3, 1, 4, 1, 2, 2, 7]\n",
    "root5 = TreeNode(3)\n",
    "root5.left = TreeNode(1)\n",
    "root5.right = TreeNode(4)\n",
    "root5.left.left = TreeNode(1)\n",
    "root5.left.right = TreeNode(2)\n",
    "root5.right.left = TreeNode(2)\n",
    "root5.right.right = TreeNode(7)\n",
    "print(is_duplicate(root5))  # Output: 1\n",
    "\n",
    "\n",
    "\n"
   ]
  },
  {
   "cell_type": "markdown",
   "metadata": {},
   "source": [
    "\n",
    "-   Explain why your solution works\n"
   ]
  },
  {
   "cell_type": "code",
   "execution_count": null,
   "metadata": {},
   "outputs": [],
   "source": [
    "# The solution uses breadth-first search (BFS) to find the closest duplicate value to the root in a binary tree.\n",
    "\n",
    "# 1.) BFS Traversal:\n",
    "# BFS explores nodes level by level, ensuring the closest duplicate is found first.\n",
    "\n",
    "# 2.) Queue:\n",
    "# A deque processes nodes in a first-in, first-out (FIFO) order.\n",
    "\n",
    "# 3.) Tracking Seen Values:\n",
    "# A set keeps track of values already encountered, providing O(1) time complexity for insertions and checks.\n",
    "\n",
    "# 4.) Checking for Duplicates:\n",
    "# If a node's value is already in the set, it's a duplicate, and we return it. Otherwise, add the value to the set and continue.\n",
    "\n",
    "# 5.) Result:\n",
    "#If no duplicates are found, return -1.\n",
    "\n",
    "# Example 2:\n",
    "\n",
    "       1\n",
    "     /   \\\n",
    "    10    2\n",
    "   / \\   / \\\n",
    "  3  10 12  12\n",
    "\n",
    "# Steps:\n",
    "\n",
    "# Start with the root: 1\n",
    "# Process children: 10 and 2\n",
    "# Next level: 3, 10 (duplicate found, return 10)\n",
    "# Complexity\n",
    "# Time: O(n), as each node is visited once.\n",
    "# Space: O(n), as the queue and set can each contain up to n nodes."
   ]
  },
  {
   "cell_type": "markdown",
   "metadata": {},
   "source": [
    "\n",
    "-   Explain the problem’s time and space complexity\n"
   ]
  },
  {
   "cell_type": "code",
   "execution_count": null,
   "metadata": {},
   "outputs": [],
   "source": [
    "# Time Complexity\n",
    "# BFS Traversal: Each node in the tree is visited exactly once during the BFS traversal.\n",
    "# Set Operations: Checking membership and adding elements to a set both have an average time complexity of O(1).\n",
    "# Therefore, the overall time complexity is O(n), where n is the number of nodes in the tree.\n",
    "\n",
    "# Space Complexity\n",
    "# Queue: In the worst case, the queue will store all the nodes at the deepest level of the tree. In a balanced binary tree, this would be O(n/2), which simplifies to O(n).\n",
    "# Set: The set stores unique values from the tree. In the worst case, it will store all n nodes.\n",
    "# Therefore, the overall space complexity is O(n), accounting for both the queue and the set.\n",
    "\n"
   ]
  },
  {
   "cell_type": "markdown",
   "metadata": {},
   "source": [
    "\n",
    "-   Explain the thinking to an alternative solution (no coding required, but a classmate reading this should be able to code it up based off your text)\n"
   ]
  },
  {
   "cell_type": "code",
   "execution_count": null,
   "metadata": {},
   "outputs": [],
   "source": [
    "# Instead of using BFS, we can use a depth-first search (DFS) approach to find duplicates in the binary tree. Here's how you can do it:\n",
    "\n",
    "# Use a Stack for DFS:\n",
    "\n",
    "# Use a stack to manage the nodes to be visited next. Initialize the stack with the root node.\n",
    "# Tracking Seen Values:\n",
    "\n",
    "# Use a set to keep track of the values you have already encountered.\n",
    "# DFS Traversal:\n",
    "\n",
    "# While the stack is not empty, pop a node from the stack.\n",
    "# Check if the node's value is in the set:\n",
    "# If it is, return the node's value as it's a duplicate.\n",
    "# If it isn't, add the node's value to the set.\n",
    "# Push the node's right child and then the left child onto the stack (if they exist). This ensures that the left subtree is processed first, maintaining the DFS order.\n",
    "#Return Result:\n",
    "\n",
    "# If the stack is exhausted and no duplicates are found, return -1."
   ]
  },
  {
   "cell_type": "markdown",
   "metadata": {},
   "source": [
    "## Evaluation Criteria\n",
    "\n",
    "-   Problem is accurately stated\n",
    "\n",
    "-   Two examples are correct and easily understandable\n",
    "\n",
    "-   Correctness, time, and space complexity of the coding solution\n",
    "\n",
    "-   Clarity in explaining why the solution works, its time and space complexity\n",
    "\n",
    "-   Clarity in the proposal to the alternative solution"
   ]
  },
  {
   "cell_type": "markdown",
   "metadata": {},
   "source": [
    "## Submission Information\n",
    "\n",
    "🚨 **Please review our [Assignment Submission Guide](https://github.com/UofT-DSI/onboarding/blob/main/onboarding_documents/submissions.md)** 🚨 for detailed instructions on how to format, branch, and submit your work. Following these guidelines is crucial for your submissions to be evaluated correctly.\n",
    "\n",
    "### Submission Parameters:\n",
    "* Submission Due Date: `HH:MM AM/PM - DD/MM/YYYY`\n",
    "* The branch name for your repo should be: `assignment-1`\n",
    "* What to submit for this assignment:\n",
    "    * This Jupyter Notebook (assignment_1.ipynb) should be populated and should be the only change in your pull request.\n",
    "* What the pull request link should look like for this assignment: `https://github.com/<your_github_username>/algorithms_and_data_structures/pull/<pr_id>`\n",
    "    * Open a private window in your browser. Copy and paste the link to your pull request into the address bar. Make sure you can see your pull request properly. This helps the technical facilitator and learning support staff review your submission easily.\n",
    "\n",
    "Checklist:\n",
    "- [ ] Create a branch called `assignment-1`.\n",
    "- [ ] Ensure that the repository is public.\n",
    "- [ ] Review [the PR description guidelines](https://github.com/UofT-DSI/onboarding/blob/main/onboarding_documents/submissions.md#guidelines-for-pull-request-descriptions) and adhere to them.\n",
    "- [ ] Verify that the link is accessible in a private browser window.\n",
    "\n",
    "If you encounter any difficulties or have questions, please don't hesitate to reach out to our team via our Slack at `#cohort-3-help`. Our Technical Facilitators and Learning Support staff are here to help you navigate any challenges."
   ]
  }
 ],
 "metadata": {
  "kernelspec": {
   "display_name": "Python 3",
   "language": "python",
   "name": "python3"
  },
  "language_info": {
   "codemirror_mode": {
    "name": "ipython",
    "version": 3
   },
   "file_extension": ".py",
   "mimetype": "text/x-python",
   "name": "python",
   "nbconvert_exporter": "python",
   "pygments_lexer": "ipython3",
   "version": "3.9.15"
  }
 },
 "nbformat": 4,
 "nbformat_minor": 2
}
